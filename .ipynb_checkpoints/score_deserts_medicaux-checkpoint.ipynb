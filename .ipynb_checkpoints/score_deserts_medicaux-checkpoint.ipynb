{
 "cells": [
  {
   "cell_type": "code",
   "execution_count": 12,
   "metadata": {},
   "outputs": [],
   "source": [
    "import os\n",
    "\n",
    "import csv\n",
    "import pandas as pd\n",
    "\n",
    "%matplotlib inline"
   ]
  },
  {
   "cell_type": "code",
   "execution_count": 13,
   "metadata": {},
   "outputs": [],
   "source": [
    "# Déclaration des constantes\n",
    "DATA_DIR = '../data/external/'\n",
    "PROCESSED_DIR = '../data/processed/'\n",
    "\n",
    "CITIES_FILENAME = 'base-cc-filosofi-2015.xls'\n",
    "PS_CITIES_FILENAME = 'PS_Communes.csv'\n",
    "ANALYSIS_FILENAME = 'analyse.csv'"
   ]
  },
  {
   "cell_type": "code",
   "execution_count": 14,
   "metadata": {},
   "outputs": [],
   "source": [
    "analyse_df = pd.read_csv(os.path.join(PROCESSED_DIR, ANALYSIS_FILENAME),\n",
    "                                 sep=';',\n",
    "                                 dtype={'CODGEO':str, 'codecommuneetablissement':str},\n",
    "                                 )"
   ]
  },
  {
   "cell_type": "code",
   "execution_count": 15,
   "metadata": {},
   "outputs": [],
   "source": [
    "dept_df = (analyse_df\n",
    "          .dropna(subset=['CODGEO', 'NBPERSMENFISC15'])\n",
    "          .assign(departement = lambda df: df.CODGEO.str[:2])\n",
    "          .groupby('departement')\n",
    "           [['NBPERSMENFISC15','ambulance', 'analyse_medicale', 'autre',\n",
    "       'autre_specialiste', 'chirurgien', 'dentiste', 'generaliste', 'hopital',\n",
    "       'infirmiers', 'organe', 'radiologiste', 'reeducateur_podologue',]]\n",
    "           .sum()\n",
    "          )"
   ]
  },
  {
   "cell_type": "code",
   "execution_count": 16,
   "metadata": {},
   "outputs": [],
   "source": [
    "dept_df.rename(columns={'NBPERSMENFISC15':'population', 'radiologiste':'radiologue'}, inplace=True)\n",
    "dept_df = dept_df.rename_axis('code_dept')\n",
    "dept_df = dept_df.drop('97') # Suppression de l'observation des départements qui ne sont pas en France métropolitaine et commencent donc par 97"
   ]
  },
  {
   "cell_type": "markdown",
   "metadata": {},
   "source": [
    "### Ajout des régions dans le df département"
   ]
  },
  {
   "cell_type": "code",
   "execution_count": 17,
   "metadata": {},
   "outputs": [],
   "source": [
    "# On récupère sur github un fichier de mapping entre départements et régions\n",
    "regions_df = pd.read_csv('https://gist.githubusercontent.com/gzurbach/b0ccdeda51ec2fe135d5/raw/b89e3d2ac21ddb251b1aed0528ddc9437a07818f/departments_regions_france_2016.csv',\n",
    "                         dtype=str, sep = \",\",\n",
    "                        )\n",
    "\n",
    "# On renomme les colonnes\n",
    "regions_df.rename(columns={'departmentCode':'code_dept',\n",
    "                           'departmentName':'nom_dept',\n",
    "                           'regionName':'nom_region'\n",
    "                          }, inplace=True)\n",
    "\n",
    "# On passe la colonne en upper case pour que les codes de la corse (\"2a\" et \"2b\") soient correctement formatés.\n",
    "regions_df['code_dept'] = regions_df['code_dept'].str.upper()"
   ]
  },
  {
   "cell_type": "code",
   "execution_count": 18,
   "metadata": {},
   "outputs": [],
   "source": [
    "# On fusionne le df précédemment créé avec le df des Départements\n",
    "# En utilisant le code du département comme clé\n",
    "dept_df = pd.merge(dept_df,\n",
    "                     regions_df[['nom_region','code_dept','nom_dept']],\n",
    "                     how='left', on='code_dept'\n",
    "                    ).set_index('code_dept')"
   ]
  },
  {
   "cell_type": "markdown",
   "metadata": {},
   "source": [
    "##### Calcul de tous les taux pour 100 000 habitants"
   ]
  },
  {
   "cell_type": "code",
   "execution_count": 19,
   "metadata": {},
   "outputs": [],
   "source": [
    "# On créé une fonction qui ajoute des colonnes au dataframe contenant le taux pour 100 000 habitants\n",
    "def tx_par_hab(list_of_columns):\n",
    "    for column in list_of_columns:\n",
    "        dept_df[column +'_habitant'] = 100_000 * dept_df[column] / dept_df['population']"
   ]
  },
  {
   "cell_type": "code",
   "execution_count": 20,
   "metadata": {},
   "outputs": [],
   "source": [
    "# On définit la liste des colonnes à processer\n",
    "columns_to_process = ['generaliste','infirmiers','hopital',\n",
    "                      'ambulance', 'analyse_medicale', 'autre',\n",
    "                      'autre_specialiste', 'chirurgien', 'dentiste',\n",
    "                      'organe','radiologue','reeducateur_podologue']\n",
    "\n",
    "# Execution de la fonction\n",
    "tx_par_hab(columns_to_process)"
   ]
  },
  {
   "cell_type": "markdown",
   "metadata": {},
   "source": [
    "### Calcul d'un indice"
   ]
  },
  {
   "cell_type": "markdown",
   "metadata": {},
   "source": [
    "Il existe une grande variété d'indicateurs utilisés pour calculer un désert médical, car ce [concept est multidimensionnel](https://drees.solidarites-sante.gouv.fr/IMG/pdf/dd17.pdf). Il ne s'agit pas que de la simple présence, ou distance, entre un professionnel de santé et des patients. La démographie des territoires, l'âge des praticiens, leur disponibilité, les équipements connexes (pharmacie, locaux adaptés etc.) sont autant de facteurs qui entrent en jeu.\n",
    "\n",
    "Il existe cependant une définition plus simpliste émanant du ministère de la Santé si on [considère](http://www.leparisien.fr/societe/grand-debat-et-si-on-forcait-les-medecins-a-s-installer-dans-les-deserts-medicaux-26-02-2019-8020416.php) qu’un territoire rentre dans la catégorie du désert médical lorsque la densité de médecins par rapport à la population est de 30 % inférieure à la moyenne nationale.\n",
    "\n",
    "En France il y a en moyenne, pour 100 000 habitants, [82 médecins généralistes et 85 spécialistes.](http://www.securite-sociale.fr/IMG/pdf/2_demographie_des_medecins_liberaux_et_remboursements_de_l_assurance_maladie.pdf). Malheureusement, les données utilisées pour notre étude, issues de la base SIREN, nous amènent à surévaluer ces des résultats puisque notre moyenne se situe à 142 généralistes par habitants. Cependant, on peut garder l'idée comme quoi les rapports entre les différents départements ainsi que les écarts par rapport à la moyenne nationale restent des indicateurs pertinents pour déceler des territoires sujets à un déficit de personnel de santé.\n",
    "\n",
    "Afin de garder un indice cohérent nous ne prendrons que 3 variables en compte : la moyenne des généralistes par habitant, celle des infirmiers et celle des hôpitaux."
   ]
  },
  {
   "cell_type": "markdown",
   "metadata": {},
   "source": [
    "##### Calcul des moyennes pour le taux d'Hopitaux par habitants, d'infirmiers par habitants et de généralistes par habitants (pour 100 000 personnes) "
   ]
  },
  {
   "cell_type": "code",
   "execution_count": 21,
   "metadata": {},
   "outputs": [],
   "source": [
    "# Moyennes globales pour trois variables utilisées pour construire l'indice :\n",
    "\n",
    "MOY_GENERALISTES_PAR_HAB = dept_df['generaliste_habitant'].mean()\n",
    "MOY_INFIRMIERS_PAR_HAB = dept_df['infirmiers_habitant'].mean()\n",
    "MOY_HOPITAUX_PAR_HAB = dept_df['hopital_habitant'].mean()"
   ]
  },
  {
   "cell_type": "markdown",
   "metadata": {},
   "source": [
    "On définit une fonction qui calcule l'écart à la moyenne pour trois des indices les plus importants, effectue ensuite la moyenne de ces écarts et multiplie le tout par 100. Plus l'indice est bas, plus le département a des carences en terme d'accès aux professionnels de santé."
   ]
  },
  {
   "cell_type": "code",
   "execution_count": 22,
   "metadata": {},
   "outputs": [],
   "source": [
    "    \n",
    "\n",
    "def indice(tx_generalistes,tx_infirmiers,tx_hopitaux):\n",
    "    \n",
    "    # On créé des variables supplémentaires pour pouvoir les utiliser dans le dashboard\n",
    "    \n",
    "        dept_df['indice_generaliste_habitant'] = (tx_generalistes / MOY_GENERALISTES_PAR_HAB) * (100/3)\n",
    "        dept_df['indice_infirmiers_habitant'] = (tx_infirmiers / MOY_INFIRMIERS_PAR_HAB) * (100/3)\n",
    "        dept_df['indice_hopital_habitant'] = (tx_hopitaux / MOY_HOPITAUX_PAR_HAB) * (100/3)\n",
    "\n",
    "        \n",
    "        # On calcule l'indice\n",
    "        \n",
    "        indice = (((tx_generalistes / MOY_GENERALISTES_PAR_HAB)\n",
    "                        +(tx_infirmiers / MOY_INFIRMIERS_PAR_HAB)\n",
    "                        +(tx_hopitaux / MOY_HOPITAUX_PAR_HAB))\n",
    "                       ) * (100/3)\n",
    "        return indice"
   ]
  },
  {
   "cell_type": "code",
   "execution_count": 23,
   "metadata": {},
   "outputs": [],
   "source": [
    "# Execution de la fonction\n",
    "dept_df['indice'] = indice(dept_df['generaliste_habitant'],dept_df['infirmiers_habitant'],dept_df['hopital_habitant'])"
   ]
  },
  {
   "cell_type": "markdown",
   "metadata": {},
   "source": [
    "##### Export du fichier en format csv"
   ]
  },
  {
   "cell_type": "code",
   "execution_count": 65,
   "metadata": {},
   "outputs": [],
   "source": [
    "dept_df.to_csv('indices_dept_et_regions.csv', sep=',', encoding='utf-8', quotechar='\"', index=True, quoting=csv.QUOTE_ALL)"
   ]
  }
 ],
 "metadata": {
  "kernelspec": {
   "display_name": "Python 3",
   "language": "python",
   "name": "python3"
  },
  "language_info": {
   "codemirror_mode": {
    "name": "ipython",
    "version": 3
   },
   "file_extension": ".py",
   "mimetype": "text/x-python",
   "name": "python",
   "nbconvert_exporter": "python",
   "pygments_lexer": "ipython3",
   "version": "3.6.7"
  }
 },
 "nbformat": 4,
 "nbformat_minor": 2
}
